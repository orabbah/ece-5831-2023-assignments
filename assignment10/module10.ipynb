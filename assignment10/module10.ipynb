{
 "cells": [
  {
   "cell_type": "markdown",
   "metadata": {},
   "source": [
    "# Binary Classification\n",
    "\n",
    "## 1. Working on IMDB Data set (imdb.py)"
   ]
  },
  {
   "cell_type": "markdown",
   "metadata": {},
   "source": [
    "### 1.1 Building and Training Model from imdb.py"
   ]
  },
  {
   "cell_type": "code",
   "execution_count": 2,
   "metadata": {},
   "outputs": [],
   "source": [
    "import imdb"
   ]
  },
  {
   "cell_type": "code",
   "execution_count": null,
   "metadata": {},
   "outputs": [],
   "source": [
    "modd = imdb.build_model()"
   ]
  },
  {
   "cell_type": "code",
   "execution_count": null,
   "metadata": {},
   "outputs": [],
   "source": [
    "modd.summary()"
   ]
  },
  {
   "cell_type": "markdown",
   "metadata": {},
   "source": [
    "### 1.2 Training model from imdb.py and plotting graph"
   ]
  },
  {
   "cell_type": "code",
   "execution_count": null,
   "metadata": {},
   "outputs": [],
   "source": [
    "imdb.train(modd)"
   ]
  },
  {
   "cell_type": "markdown",
   "metadata": {},
   "source": [
    "### 1.3 Evaluating trained model on test dataset for imdb class"
   ]
  },
  {
   "cell_type": "code",
   "execution_count": 3,
   "metadata": {},
   "outputs": [
    {
     "name": "stdout",
     "output_type": "stream",
     "text": [
      "782/782 [==============================] - 27s 5ms/step\n",
      "Sample 1: Predicted=0.0, Actual=0.0\n",
      "Sample 2: Predicted=1.0, Actual=1.0\n",
      "Sample 3: Predicted=0.0, Actual=1.0\n",
      "Sample 4: Predicted=1.0, Actual=0.0\n",
      "Sample 5: Predicted=1.0, Actual=1.0\n",
      "Sample 6: Predicted=1.0, Actual=1.0\n",
      "Sample 7: Predicted=1.0, Actual=1.0\n",
      "Sample 8: Predicted=0.0, Actual=0.0\n",
      "Sample 9: Predicted=1.0, Actual=0.0\n",
      "Sample 10: Predicted=1.0, Actual=1.0\n",
      "Sample 11: Predicted=1.0, Actual=1.0\n",
      "Sample 12: Predicted=0.0, Actual=0.0\n",
      "Sample 13: Predicted=0.0, Actual=0.0\n",
      "Sample 14: Predicted=0.0, Actual=0.0\n",
      "Sample 15: Predicted=1.0, Actual=1.0\n",
      "Sample 16: Predicted=0.0, Actual=0.0\n",
      "Sample 17: Predicted=1.0, Actual=1.0\n",
      "Sample 18: Predicted=1.0, Actual=0.0\n",
      "Sample 19: Predicted=0.0, Actual=0.0\n",
      "Sample 20: Predicted=0.0, Actual=0.0\n",
      "782/782 [==============================] - 16s 5ms/step - loss: 0.3366 - accuracy: 0.8712\n",
      "Test Accuracy: 87.12%\n",
      "Test loss: 33.66%\n"
     ]
    }
   ],
   "source": [
    "imdb.evaluate()\n"
   ]
  },
  {
   "cell_type": "markdown",
   "metadata": {},
   "source": [
    "# Multiclass Classification\n",
    "\n",
    "## 2. Working on Reuters dataset (reuters.py)"
   ]
  },
  {
   "cell_type": "markdown",
   "metadata": {},
   "source": [
    "### 2.1 Building and Training Model from reuters.py"
   ]
  },
  {
   "cell_type": "code",
   "execution_count": null,
   "metadata": {},
   "outputs": [],
   "source": [
    "import reuters"
   ]
  },
  {
   "cell_type": "code",
   "execution_count": null,
   "metadata": {},
   "outputs": [],
   "source": [
    "modR = reuters.build_model()"
   ]
  },
  {
   "cell_type": "code",
   "execution_count": null,
   "metadata": {},
   "outputs": [],
   "source": [
    "modR.summary()"
   ]
  },
  {
   "cell_type": "markdown",
   "metadata": {},
   "source": [
    "### 2.2 Training model for reuters.py"
   ]
  },
  {
   "cell_type": "code",
   "execution_count": null,
   "metadata": {},
   "outputs": [],
   "source": [
    "reuters.train(modR)"
   ]
  },
  {
   "cell_type": "markdown",
   "metadata": {},
   "source": [
    "### 2.3 Evaluating trained model on test dataset for reuters.py"
   ]
  },
  {
   "cell_type": "code",
   "execution_count": null,
   "metadata": {},
   "outputs": [],
   "source": [
    "reuters.evaluate()"
   ]
  },
  {
   "cell_type": "markdown",
   "metadata": {},
   "source": [
    "# Regression\n",
    "\n",
    "## 3. Working on Boston Housing dataset (boston_housing.py)"
   ]
  },
  {
   "cell_type": "markdown",
   "metadata": {},
   "source": [
    "### 3.1 Building and Training Model from boston_housing.py"
   ]
  },
  {
   "cell_type": "code",
   "execution_count": 4,
   "metadata": {},
   "outputs": [],
   "source": [
    "import boston_housing as bh"
   ]
  },
  {
   "cell_type": "code",
   "execution_count": null,
   "metadata": {},
   "outputs": [],
   "source": [
    "modh = bh.build_model()"
   ]
  },
  {
   "cell_type": "code",
   "execution_count": null,
   "metadata": {},
   "outputs": [],
   "source": [
    "modh.summary()"
   ]
  },
  {
   "cell_type": "markdown",
   "metadata": {},
   "source": [
    "### 3.2 Training model for boston_housing.py"
   ]
  },
  {
   "cell_type": "code",
   "execution_count": null,
   "metadata": {},
   "outputs": [],
   "source": [
    "bh.train(modh)"
   ]
  },
  {
   "cell_type": "markdown",
   "metadata": {},
   "source": [
    "### 3.3 Evaluating trained model for boston_housing.py on test dataset"
   ]
  },
  {
   "cell_type": "code",
   "execution_count": 5,
   "metadata": {},
   "outputs": [
    {
     "name": "stdout",
     "output_type": "stream",
     "text": [
      "4/4 [==============================] - 0s 6ms/step\n"
     ]
    },
    {
     "data": {
      "image/png": "[encoded data removed]",
      "text/plain": [
       "<Figure size 640x480 with 1 Axes>"
      ]
     },
     "metadata": {},
     "output_type": "display_data"
    },
    {
     "name": "stdout",
     "output_type": "stream",
     "text": [
      "Test Mean Absolute Error (MAE): 2.46\n"
     ]
    }
   ],
   "source": [
    "bh.evaluate()"
   ]
  }
 ],
 "metadata": {
  "kernelspec": {
   "display_name": "ece5831-2023-py3.10",
   "language": "python",
   "name": "python3"
  },
  "language_info": {
   "codemirror_mode": {
    "name": "ipython",
    "version": 3
   },
   "file_extension": ".py",
   "mimetype": "text/x-python",
   "name": "python",
   "nbconvert_exporter": "python",
   "pygments_lexer": "ipython3",
   "version": "3.11.5"
  }
 },
 "nbformat": 4,
 "nbformat_minor": 2
}
