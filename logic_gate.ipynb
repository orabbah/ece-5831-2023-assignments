{
 "cells": [
  {
   "cell_type": "markdown",
   "metadata": {},
   "source": [
    "# Logic Gate Implementation\n",
    "\n",
    "Omar Rabbah\n",
    "\n",
    "## AND gate\n",
    "And gate is one of the basic logic gates that gives output as 1 only if both the inputs are 1. Otherwise it gives zero as an output.\n",
    "This can be achieved in a perceptron if we use weights and threshold such that the sum of wights is greater than threshold, and individual weight is lesser than threshold. \n",
    "\n",
    "The code can be implemented using math operations. However, it is highly recommended to use numpy library and matrices in order to make the code smaller and faster. \n",
    "\n",
    "We will use numpy to perform calculations for all the gates. Following is the code for AND gate"
   ]
  },
  {
   "cell_type": "code",
   "execution_count": 13,
   "metadata": {},
   "outputs": [],
   "source": [
    "import numpy as np\n",
    "\n",
    "\n",
    "def and_gate(x1, x2):\n",
    "    w1 = 0.5\n",
    "    w2 = 0.5\n",
    "    th = 0.99\n",
    "\n",
    "    x = np.array([x1, x2])\n",
    "    w = np.array([w1, w2])\n",
    "\n",
    "    if np.sum(x*w) > th:\n",
    "        return 1\n",
    "    else:\n",
    "        return 0\n",
    "    "
   ]
  },
  {
   "cell_type": "markdown",
   "metadata": {},
   "source": [
    "Here we call the function and test it, as an example.\n",
    "All four conditions have been tested and verified using module3.py\n",
    "Please run the module3.py to verify the gate for all inputs. "
   ]
  },
  {
   "cell_type": "code",
   "execution_count": 14,
   "metadata": {},
   "outputs": [],
   "source": [
    "x1 = 0\n",
    "x2 = 0\n",
    "out = and_gate(x1, x2)"
   ]
  },
  {
   "cell_type": "code",
   "execution_count": 15,
   "metadata": {},
   "outputs": [
    {
     "name": "stdout",
     "output_type": "stream",
     "text": [
      "The output of 0 AND 0 is 0\n"
     ]
    }
   ],
   "source": [
    "print(f'The output of {x1} AND {x2} is {out}')"
   ]
  },
  {
   "cell_type": "markdown",
   "metadata": {},
   "source": [
    "## OR gate\n",
    "\n",
    "An OR gate is logic gate that gives 1 at output if any of the inputs is high. This can be acheived by simply setting the weights and threshold such that the individual weights are greater than threshold. \n",
    "The code is implemented here using numpy. "
   ]
  },
  {
   "cell_type": "code",
   "execution_count": 16,
   "metadata": {},
   "outputs": [],
   "source": [
    "def or_gate(x1, x2):\n",
    "    w1 = 0.5\n",
    "    w2 = 0.5\n",
    "    th = 0.0\n",
    "\n",
    "    # use numpy to perform matrix multiplication\n",
    "    x = np.array([x1, x2])\n",
    "    w = np.array([w1, w2])\n",
    "\n",
    "    if np.sum(x*w) > th:\n",
    "        return 1\n",
    "    else:\n",
    "        return 0      "
   ]
  },
  {
   "cell_type": "markdown",
   "metadata": {},
   "source": [
    "Here we call the function and test it, as an example.\n",
    "All four conditions have been tested and verified using module3.py\n",
    "Please run the module3.py to verify the gate for all inputs. "
   ]
  },
  {
   "cell_type": "code",
   "execution_count": 17,
   "metadata": {},
   "outputs": [
    {
     "name": "stdout",
     "output_type": "stream",
     "text": [
      "The output of 1 OR 0 is 1\n"
     ]
    }
   ],
   "source": [
    "x1 = 1\n",
    "x2 = 0\n",
    "out = or_gate(x1, x2)\n",
    "\n",
    "print(f'The output of {x1} OR {x2} is {out}')\n",
    "\n"
   ]
  },
  {
   "cell_type": "markdown",
   "metadata": {},
   "source": [
    "## NAND Gate\n",
    "\n",
    "NAND gate is basically the NOT (opposite) of AND gate. It can be implemented simply by switching greater than and less than comparison of weights with threshold. \n",
    "Here is a function implementing the NAND gate. "
   ]
  },
  {
   "cell_type": "code",
   "execution_count": 19,
   "metadata": {},
   "outputs": [],
   "source": [
    "def nand_gate(x1, x2):\n",
    "    w1 = 0.5\n",
    "    w2 = 0.5\n",
    "    th = 0.99\n",
    "\n",
    "    x = np.array([x1, x2])\n",
    "    w = np.array([w1, w2])\n",
    "\n",
    "    if np.sum(x*w) < th:\n",
    "        return 1\n",
    "    else:\n",
    "        return 0\n",
    "    "
   ]
  },
  {
   "cell_type": "markdown",
   "metadata": {},
   "source": [
    "Here we call the function and test it, as an example.\n",
    "All four conditions have been tested and verified using module3.py\n",
    "Please run the module3.py to verify the gate for all inputs. "
   ]
  },
  {
   "cell_type": "code",
   "execution_count": 20,
   "metadata": {},
   "outputs": [
    {
     "name": "stdout",
     "output_type": "stream",
     "text": [
      "The output of 1 NAND 1 is 0\n"
     ]
    }
   ],
   "source": [
    "x1 = 1\n",
    "x2 = 1\n",
    "out = nand_gate(x1, x2)\n",
    "\n",
    "print(f'The output of {x1} NAND {x2} is {out}')"
   ]
  },
  {
   "cell_type": "markdown",
   "metadata": {},
   "source": [
    "## NOR Gate\n",
    "NOR gate is a NOT (opposite) of an OR gate. And can also be implemented by reversing comparison like the NAND gate. \n",
    "Here is an implementation. We have changed threshold from 0 to 0.1 to complete the logic. "
   ]
  },
  {
   "cell_type": "code",
   "execution_count": 22,
   "metadata": {},
   "outputs": [],
   "source": [
    "def nor_gate(x1, x2):\n",
    "    w1 = 0.5\n",
    "    w2 = 0.5\n",
    "    th = 0.1\n",
    "\n",
    "    # use numpy to perform matrix multiplication\n",
    "    x = np.array([x1, x2])\n",
    "    w = np.array([w1, w2])\n",
    "\n",
    "    if np.sum(x*w) < th:\n",
    "        return 1\n",
    "    else:\n",
    "        return 0    "
   ]
  },
  {
   "cell_type": "markdown",
   "metadata": {},
   "source": [
    "Here we call the function and test it, as an example.\n",
    "All four conditions have been tested and verified using module3.py\n",
    "Please run the module3.py to verify the gate for all inputs. "
   ]
  },
  {
   "cell_type": "code",
   "execution_count": 24,
   "metadata": {},
   "outputs": [
    {
     "name": "stdout",
     "output_type": "stream",
     "text": [
      "The output of 0 NOR 0 is 1\n"
     ]
    }
   ],
   "source": [
    "x1 = 0\n",
    "x2 = 0\n",
    "out = nor_gate(x1, x2)\n",
    "\n",
    "print(f'The output of {x1} NOR {x2} is {out}')"
   ]
  },
  {
   "cell_type": "markdown",
   "metadata": {},
   "source": [
    "## LogicGate class\n",
    "\n",
    "IN order to make the code easier to handle and understand, it is usually desired to combine similar functions together. For the same purpose, we will try to combine all above logic gates into one class. And then we will try to access each of these logic gates individually using the class. \n",
    "\n",
    "Following is the code. "
   ]
  },
  {
   "cell_type": "code",
   "execution_count": 26,
   "metadata": {},
   "outputs": [],
   "source": [
    "import numpy as np\n",
    "\n",
    "class LogicGate:\n",
    "    def __init__(self):\n",
    "        self.w1 = None\n",
    "        self.w2 = None\n",
    "        self.th = None\n",
    "        self.out = None\n",
    "        self.x1 = self.x2 = None\n",
    "\n",
    "\n",
    "    def print_output(self, gate):\n",
    "        if gate == 'AND':\n",
    "            print(f'{self.x1} AND {self.x2} is {self.out}')\n",
    "        elif gate == 'OR':    \n",
    "            print(f'{self.x1} OR {self.x2} is {self.out}')\n",
    "        elif gate == 'NAND':    \n",
    "            print(f'{self.x1} NAND {self.x2} is {self.out}')   \n",
    "        elif gate == 'NOR':    \n",
    "            print(f'{self.x1} NOR {self.x2} is {self.out}')   \n",
    "\n",
    "    def or_gate(self, x1, x2):\n",
    "        self.w1 = 0.5\n",
    "        self.w2 = 0.5\n",
    "        self.th = 0.0\n",
    "\n",
    "        self.x1 = x1\n",
    "        self.x2 = x2\n",
    "\n",
    "        # use numpy to perform matrix multiplication\n",
    "        x = np.array([x1, x2])\n",
    "        w = np.array([self.w1, self.w2])\n",
    "\n",
    "        if np.sum(x*w) > self.th:\n",
    "            self.out = 1\n",
    "            return 1\n",
    "        else:\n",
    "            self.out = 0\n",
    "            return 0        \n",
    "\n",
    "\n",
    "\n",
    "    def and_gate(self, x1, x2):\n",
    "        self.w1 = 0.5\n",
    "        self.w2 = 0.5\n",
    "        self.th = 0.99\n",
    "\n",
    "        self.x1 = x1\n",
    "        self.x2 = x2\n",
    "\n",
    "        x = np.array([x1, x2])\n",
    "        w = np.array([self.w1, self.w2])\n",
    "        \n",
    "        if np.sum(x*w) > self.th:\n",
    "            self.out = 1\n",
    "            return 1\n",
    "        else:\n",
    "            self.out = 0\n",
    "            return 0\n",
    "        \n",
    "    def nand_gate(self, x1, x2):\n",
    "        self.w1 = 0.5\n",
    "        self.w2 = 0.5\n",
    "        self.th = 0.99\n",
    "\n",
    "        self.x1 = x1\n",
    "        self.x2 = x2\n",
    "\n",
    "        x = np.array([x1, x2])\n",
    "        w = np.array([self.w1, self.w2])\n",
    "        \n",
    "        if np.sum(x*w) < self.th:\n",
    "            self.out = 1\n",
    "            return 1\n",
    "        else:\n",
    "            self.out = 0\n",
    "            return 0\n",
    "\n",
    "\n",
    "    def nor_gate(self, x1, x2):\n",
    "        self.w1 = 0.5\n",
    "        self.w2 = 0.5\n",
    "        self.th = 0.1\n",
    "\n",
    "        self.x1 = x1\n",
    "        self.x2 = x2\n",
    "\n",
    "        x = np.array([x1, x2])\n",
    "        w = np.array([self.w1, self.w2])\n",
    "\n",
    "        if np.sum(x*w) < self.th:\n",
    "            self.out = 1\n",
    "            return 1\n",
    "        else:\n",
    "            self.out = 0\n",
    "            return 0     \n",
    "    \n"
   ]
  },
  {
   "cell_type": "markdown",
   "metadata": {},
   "source": [
    "The above class has also been saved as a python script (.py) and now can be stored and managed in a seperate file to make things easier to manage, understand and use. \n",
    "In order to use the class from .py file, we need to import the class as follows. "
   ]
  },
  {
   "cell_type": "code",
   "execution_count": 27,
   "metadata": {},
   "outputs": [],
   "source": [
    "#logic_gate = LogicGate()\n",
    "import numpy as numpy\n",
    "import logic_gate as lg \n",
    "logic_gate =  lg.LogicGate()"
   ]
  },
  {
   "cell_type": "markdown",
   "metadata": {},
   "source": [
    "The individual logic gates can now be used by using syntax as following example."
   ]
  },
  {
   "cell_type": "code",
   "execution_count": 28,
   "metadata": {},
   "outputs": [
    {
     "name": "stdout",
     "output_type": "stream",
     "text": [
      "1 AND 0 is 0\n"
     ]
    }
   ],
   "source": [
    "logic_gate.and_gate(1, 0)\n",
    "logic_gate.print_output('AND')"
   ]
  },
  {
   "cell_type": "markdown",
   "metadata": {},
   "source": [
    "PLease note that additional features like built-in functions for printing output of the logic gates has also been integrated into the class, making it easier to print the output for the user.\n",
    "Here is an another example of using the function from within the class"
   ]
  },
  {
   "cell_type": "code",
   "execution_count": 29,
   "metadata": {},
   "outputs": [
    {
     "name": "stdout",
     "output_type": "stream",
     "text": [
      "1 OR 0 is 1\n"
     ]
    }
   ],
   "source": [
    "logic_gate.or_gate(1, 0)\n",
    "logic_gate.print_output('OR')"
   ]
  },
  {
   "cell_type": "markdown",
   "metadata": {},
   "source": [
    "Here is one last example"
   ]
  },
  {
   "cell_type": "code",
   "execution_count": 11,
   "metadata": {},
   "outputs": [
    {
     "name": "stdout",
     "output_type": "stream",
     "text": [
      "1 NAND 1 is 0\n"
     ]
    }
   ],
   "source": [
    "logic_gate.nand_gate(1,1)\n",
    "logic_gate.print_output('NAND') "
   ]
  },
  {
   "cell_type": "markdown",
   "metadata": {},
   "source": [
    "Please note that the functions in the logic class are based on the basic logic gates we built in the start of this document. \n",
    "module3.py is a script that uses the class for all 4 gates that are implemented. Please run module3.py script to check the logic gate output for multiple inputs. This documents only serves as an explanation of the work done.\n",
    "\n",
    "Last but not the least, a method to use the logic class is explained in the logic class that may be accessed by running the script file logic_gate.py. If you run the command using python script, you can see the instructions about using the class. \n"
   ]
  }
 ],
 "metadata": {
  "kernelspec": {
   "display_name": "ece5831-2023",
   "language": "python",
   "name": "python3"
  },
  "language_info": {
   "codemirror_mode": {
    "name": "ipython",
    "version": 3
   },
   "file_extension": ".py",
   "mimetype": "text/x-python",
   "name": "python",
   "nbconvert_exporter": "python",
   "pygments_lexer": "ipython3",
   "version": "3.10.12"
  },
  "orig_nbformat": 4
 },
 "nbformat": 4,
 "nbformat_minor": 2
}
