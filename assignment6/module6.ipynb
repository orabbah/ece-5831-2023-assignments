{
 "cells": [
  {
   "cell_type": "code",
   "execution_count": 3,
   "id": "73d3a1e1-5303-48b3-bc74-c54aa2358257",
   "metadata": {
    "tags": []
   },
   "outputs": [
    {
     "name": "stdout",
     "output_type": "stream",
     "text": [
      "Done with loading images:  mnist/train-images-idx3-ubyte.gz\n",
      "Done with loading labels:  mnist/train-labels-idx1-ubyte.gz\n",
      "Done with loading images:  mnist/t10k-images-idx3-ubyte.gz\n",
      "Done with loading labels:  mnist/t10k-labels-idx1-ubyte.gz\n"
     ]
    }
   ],
   "source": [
    "import numpy as np\n",
    "\n",
    "from two_layer_net import TwoLayerNet\n",
    "\n",
    "from mnist_data import MnistData\n",
    "\n",
    "mnist_data = MnistData()\n",
    "\n",
    "(x_train, t_train), (x_test, t_test) = mnist_data.load()"
   ]
  },
  {
   "cell_type": "code",
   "execution_count": 26,
   "id": "234b2ede-d42f-4429-8007-2dec265339e6",
   "metadata": {
    "tags": []
   },
   "outputs": [
    {
     "name": "stdout",
     "output_type": "stream",
     "text": [
      "Done with loading images:  mnist/train-images-idx3-ubyte.gz\n",
      "Done with loading labels:  mnist/train-labels-idx1-ubyte.gz\n",
      "Done with loading images:  mnist/t10k-images-idx3-ubyte.gz\n",
      "Done with loading labels:  mnist/t10k-labels-idx1-ubyte.gz\n",
      "Done with loading images:  mnist/train-images-idx3-ubyte.gz\n",
      "Done with loading labels:  mnist/train-labels-idx1-ubyte.gz\n",
      "Done with loading images:  mnist/t10k-images-idx3-ubyte.gz\n",
      "Done with loading labels:  mnist/t10k-labels-idx1-ubyte.gz\n"
     ]
    }
   ],
   "source": [
    "!python train.py"
   ]
  },
  {
   "cell_type": "code",
   "execution_count": 21,
   "id": "7993314c-ee3f-4909-8954-9406cc6ca125",
   "metadata": {},
   "outputs": [
    {
     "name": "stdout",
     "output_type": "stream",
     "text": [
      "Done with loading images:  mnist/train-images-idx3-ubyte.gz\n",
      "Done with loading labels:  mnist/train-labels-idx1-ubyte.gz\n",
      "Done with loading images:  mnist/t10k-images-idx3-ubyte.gz\n",
      "Done with loading labels:  mnist/t10k-labels-idx1-ubyte.gz\n",
      "Done with loading images:  mnist/train-images-idx3-ubyte.gz\n",
      "Done with loading labels:  mnist/train-labels-idx1-ubyte.gz\n",
      "Done with loading images:  mnist/t10k-images-idx3-ubyte.gz\n",
      "Done with loading labels:  mnist/t10k-labels-idx1-ubyte.gz\n",
      "Accuracy: 0.00%\n"
     ]
    },
    {
     "name": "stderr",
     "output_type": "stream",
     "text": [
      "C:\\Users\\Zahid\\Module 6\\test.py:23: DeprecationWarning: elementwise comparison failed; this will raise an error in the future.\n",
      "  accuracy = np.mean(predics == t_test)\n"
     ]
    }
   ],
   "source": [
    "!python test.py"
   ]
  },
  {
   "cell_type": "code",
   "execution_count": null,
   "id": "3756e172-e235-4c05-9e10-dffcc9f7cae0",
   "metadata": {},
   "outputs": [],
   "source": []
  }
 ],
 "metadata": {
  "kernelspec": {
   "display_name": "Python 3 (ipykernel)",
   "language": "python",
   "name": "python3"
  },
  "language_info": {
   "codemirror_mode": {
    "name": "ipython",
    "version": 3
   },
   "file_extension": ".py",
   "mimetype": "text/x-python",
   "name": "python",
   "nbconvert_exporter": "python",
   "pygments_lexer": "ipython3",
   "version": "3.11.5"
  }
 },
 "nbformat": 4,
 "nbformat_minor": 5
}
